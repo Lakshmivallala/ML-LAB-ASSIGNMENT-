{
 "cells": [
  {
   "cell_type": "markdown",
   "metadata": {},
   "source": [
    "### Lab experiment 1 - Machine Learning specialisation\n",
    "\n",
    "Key/basic packages used for data analysis and machine\n",
    "learning are\n",
    "1. NumPy\n",
    "2. Pandas\n",
    "3. Matplotlib\n",
    "4. SciPy"
   ]
  },
  {
   "cell_type": "markdown",
   "metadata": {},
   "source": [
    "# NUMPY"
   ]
  },
  {
   "cell_type": "markdown",
   "metadata": {},
   "source": [
    "Numpy is a python library for scientific computing\n",
    "\n",
    "Installation:\n",
    "\n",
    "**Mac and Linux**: pip install numpy\n",
    "**Windows**: download the pre-built windows installer for NumPy manually\n",
    "\n",
    "Numpy array is a collection of values with similar data type\n",
    "\n",
    "RANK = Dimension\n",
    "\n",
    "We can change the values of a numpy array (i.e numpy arrays are mutable)"
   ]
  },
  {
   "cell_type": "code",
   "execution_count": 7,
   "metadata": {},
   "outputs": [
    {
     "name": "stdout",
     "output_type": "stream",
     "text": [
      "<class 'numpy.ndarray'>\n",
      "(3,)\n",
      "0 1 2\n",
      "[5 1 2]\n"
     ]
    }
   ],
   "source": [
    "import numpy as np #import numpy package\n",
    "a=np.array( [ 0, 1, 2 ]) #numpy with rank = 1 \n",
    "print(type(a))\n",
    "print(a.shape) #prints dimension of array\n",
    "print(a[0], a[1], a[2])\n",
    "a[0]=5\n",
    "print(a) #Numpy arrays are mutable"
   ]
  },
  {
   "cell_type": "code",
   "execution_count": 17,
   "metadata": {},
   "outputs": [
    {
     "name": "stdout",
     "output_type": "stream",
     "text": [
      "(2, 3) \n",
      "\n",
      "[[0 1 2]\n",
      " [3 4 5]] \n",
      "\n",
      "0 5 3\n"
     ]
    }
   ],
   "source": [
    "b=np.array( [ [ 0, 1, 2 ] , [3, 4, 5 ] ] ) #numpy with rank = 2\n",
    "print(b.shape,\"\\n\")\n",
    "print(b,\"\\n\")\n",
    "print( b[ 0, 0 ] , b[ 1, 2 ], b[ 1, 0 ])"
   ]
  },
  {
   "cell_type": "code",
   "execution_count": 21,
   "metadata": {},
   "outputs": [
    {
     "name": "stdout",
     "output_type": "stream",
     "text": [
      "[[0. 0. 0.]\n",
      " [0. 0. 0.]\n",
      " [0. 0. 0.]]\n"
     ]
    }
   ],
   "source": [
    "a=np.zeros( ( 3,3 ) ) #creates a 3x3 array with all elements = 0\n",
    "print(a)"
   ]
  },
  {
   "cell_type": "code",
   "execution_count": 23,
   "metadata": {},
   "outputs": [
    {
     "data": {
      "text/plain": [
       "array([[1., 1., 1., 1., 1.],\n",
       "       [1., 1., 1., 1., 1.],\n",
       "       [1., 1., 1., 1., 1.],\n",
       "       [1., 1., 1., 1., 1.],\n",
       "       [1., 1., 1., 1., 1.]])"
      ]
     },
     "execution_count": 23,
     "metadata": {},
     "output_type": "execute_result"
    }
   ],
   "source": [
    "b=np.ones( ( 5, 5 )) #creates a 3x3 array with all elements = 1\n",
    "b"
   ]
  },
  {
   "cell_type": "code",
   "execution_count": 24,
   "metadata": {
    "collapsed": true
   },
   "outputs": [
    {
     "data": {
      "text/plain": [
       "array([[7, 7, 7],\n",
       "       [7, 7, 7],\n",
       "       [7, 7, 7]])"
      ]
     },
     "execution_count": 24,
     "metadata": {},
     "output_type": "execute_result"
    }
   ],
   "source": [
    "c=np.full ( ( 3,3 ), 7) #creates a 3x3 array with all elements = \n",
    "c"
   ]
  },
  {
   "cell_type": "code",
   "execution_count": null,
   "metadata": {},
   "outputs": [],
   "source": []
  }
 ],
 "metadata": {
  "kernelspec": {
   "display_name": "Python 3",
   "language": "python",
   "name": "python3"
  },
  "language_info": {
   "codemirror_mode": {
    "name": "ipython",
    "version": 3
   },
   "file_extension": ".py",
   "mimetype": "text/x-python",
   "name": "python",
   "nbconvert_exporter": "python",
   "pygments_lexer": "ipython3",
   "version": "3.7.3"
  }
 },
 "nbformat": 4,
 "nbformat_minor": 4
}
