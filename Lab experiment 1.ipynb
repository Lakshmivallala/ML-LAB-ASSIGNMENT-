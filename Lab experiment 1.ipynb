{
 "cells": [
  {
   "cell_type": "markdown",
   "metadata": {},
   "source": [
    "### Lab experiment 1 - Machine Learning specialisation\n",
    "\n",
    "Key/basic packages used for data analysis and machine\n",
    "learning are\n",
    "1. NumPy\n",
    "2. Pandas\n",
    "3. Matplotlib\n",
    "4. SciPy"
   ]
  },
  {
   "cell_type": "markdown",
   "metadata": {},
   "source": [
    "# NUMPY"
   ]
  },
  {
   "cell_type": "markdown",
   "metadata": {},
   "source": [
    "Numpy is a python library for scientific computing\n",
    "\n",
    "Installation:\n",
    "\n",
    "**Mac and Linux**: pip install numpy\n",
    "**Windows**: download the pre-built windows installer for NumPy manually\n",
    "\n",
    "Numpy array is a collection of values with similar data type\n",
    "\n",
    "RANK = Dimension\n",
    "\n",
    "We can change the values of a numpy array (i.e numpy arrays are mutable)"
   ]
  },
  {
   "cell_type": "markdown",
   "metadata": {},
   "source": [
    "#### Initialising arrays:"
   ]
  },
  {
   "cell_type": "code",
   "execution_count": 9,
   "metadata": {},
   "outputs": [
    {
     "name": "stdout",
     "output_type": "stream",
     "text": [
      "<class 'numpy.ndarray'>\n",
      "(3,)\n",
      "0 1 2\n",
      "[5 1 2]\n"
     ]
    }
   ],
   "source": [
    "import numpy as np #import numpy package\n",
    "a=np.array( [ 0, 1, 2 ]) #numpy with rank = 1 \n",
    "print(type(a))\n",
    "print(a.shape) #prints dimension of array\n",
    "print(a[0], a[1], a[2])\n",
    "a[0]=5\n",
    "print(a) #Numpy arrays are mutable"
   ]
  },
  {
   "cell_type": "code",
   "execution_count": 10,
   "metadata": {},
   "outputs": [
    {
     "name": "stdout",
     "output_type": "stream",
     "text": [
      "(2, 3) \n",
      "\n",
      "[[0 1 2]\n",
      " [3 4 5]] \n",
      "\n",
      "0 5 3\n"
     ]
    }
   ],
   "source": [
    "b=np.array( [ [ 0, 1, 2 ] , [3, 4, 5 ] ] ) #numpy with rank = 2\n",
    "print(b.shape,\"\\n\")\n",
    "print(b,\"\\n\")\n",
    "print( b[ 0, 0 ] , b[ 1, 2 ], b[ 1, 0 ])"
   ]
  },
  {
   "cell_type": "markdown",
   "metadata": {},
   "source": [
    "#### Create a 3x3 array with all elements = 0"
   ]
  },
  {
   "cell_type": "code",
   "execution_count": 11,
   "metadata": {},
   "outputs": [
    {
     "name": "stdout",
     "output_type": "stream",
     "text": [
      "[[0. 0. 0.]\n",
      " [0. 0. 0.]\n",
      " [0. 0. 0.]]\n"
     ]
    }
   ],
   "source": [
    "a=np.zeros( ( 3,3 ) ) #creates a 3x3 array with all elements = 0\n",
    "print(a)"
   ]
  },
  {
   "cell_type": "markdown",
   "metadata": {},
   "source": [
    "#### Create a 5x5 array with all elements = 1"
   ]
  },
  {
   "cell_type": "code",
   "execution_count": 12,
   "metadata": {},
   "outputs": [
    {
     "data": {
      "text/plain": [
       "array([[1., 1., 1., 1., 1.],\n",
       "       [1., 1., 1., 1., 1.],\n",
       "       [1., 1., 1., 1., 1.],\n",
       "       [1., 1., 1., 1., 1.],\n",
       "       [1., 1., 1., 1., 1.]])"
      ]
     },
     "execution_count": 12,
     "metadata": {},
     "output_type": "execute_result"
    }
   ],
   "source": [
    "b=np.ones( ( 5, 5 )) #creates a 3x3 array with all elements = 1\n",
    "b"
   ]
  },
  {
   "cell_type": "markdown",
   "metadata": {},
   "source": [
    "#### Create a 3x3 array with all elements = some constant value "
   ]
  },
  {
   "cell_type": "code",
   "execution_count": 13,
   "metadata": {
    "scrolled": true
   },
   "outputs": [
    {
     "data": {
      "text/plain": [
       "array([[7, 7, 7],\n",
       "       [7, 7, 7],\n",
       "       [7, 7, 7]])"
      ]
     },
     "execution_count": 13,
     "metadata": {},
     "output_type": "execute_result"
    }
   ],
   "source": [
    "c=np.full ( ( 3,3 ), 7) \n",
    "c"
   ]
  },
  {
   "cell_type": "markdown",
   "metadata": {},
   "source": [
    "#### Create a random array"
   ]
  },
  {
   "cell_type": "code",
   "execution_count": 14,
   "metadata": {},
   "outputs": [
    {
     "data": {
      "text/plain": [
       "array([[0.99183102, 0.25358412, 0.27728546],\n",
       "       [0.78133956, 0.43150758, 0.162158  ],\n",
       "       [0.00820041, 0.84884437, 0.97476496]])"
      ]
     },
     "execution_count": 14,
     "metadata": {},
     "output_type": "execute_result"
    }
   ],
   "source": [
    "d=np.random.random( ( 3, 3 ))\n",
    "d"
   ]
  },
  {
   "cell_type": "markdown",
   "metadata": {},
   "source": [
    "#### Create a identity matrix"
   ]
  },
  {
   "cell_type": "code",
   "execution_count": 15,
   "metadata": {},
   "outputs": [
    {
     "data": {
      "text/plain": [
       "array([[1., 0., 0., 0., 0., 0., 0.],\n",
       "       [0., 1., 0., 0., 0., 0., 0.],\n",
       "       [0., 0., 1., 0., 0., 0., 0.],\n",
       "       [0., 0., 0., 1., 0., 0., 0.],\n",
       "       [0., 0., 0., 0., 1., 0., 0.],\n",
       "       [0., 0., 0., 0., 0., 1., 0.],\n",
       "       [0., 0., 0., 0., 0., 0., 1.]])"
      ]
     },
     "execution_count": 15,
     "metadata": {},
     "output_type": "execute_result"
    }
   ],
   "source": [
    "e=np.eye(7)\n",
    "e"
   ]
  },
  {
   "cell_type": "markdown",
   "metadata": {},
   "source": [
    "#### Conversion of list to an array:"
   ]
  },
  {
   "cell_type": "code",
   "execution_count": 16,
   "metadata": {},
   "outputs": [
    {
     "name": "stdout",
     "output_type": "stream",
     "text": [
      "<class 'list'>\n",
      "[2 3 1 5]\n",
      "<class 'numpy.ndarray'>\n"
     ]
    }
   ],
   "source": [
    "li=[ 2, 3, 1, 5 ]\n",
    "print(type(li))\n",
    "f = np.array ( li )\n",
    "print(f)\n",
    "print(type(f))"
   ]
  },
  {
   "cell_type": "markdown",
   "metadata": {},
   "source": [
    "#### Arrays using arange function: ( regularly incrementing values )"
   ]
  },
  {
   "cell_type": "code",
   "execution_count": 17,
   "metadata": {},
   "outputs": [
    {
     "data": {
      "text/plain": [
       "array([0, 1, 2, 3, 4, 5, 6, 7, 8, 9])"
      ]
     },
     "execution_count": 17,
     "metadata": {},
     "output_type": "execute_result"
    }
   ],
   "source": [
    "g=np.arange(10)\n",
    "g"
   ]
  },
  {
   "cell_type": "code",
   "execution_count": 18,
   "metadata": {},
   "outputs": [
    {
     "data": {
      "text/plain": [
       "array([[0.   +0.j, 1.   +0.j, 1.2  +0.j],\n",
       "       [0.   +0.j, 4.   +0.j, 5.   +0.j],\n",
       "       [1.   +1.j, 5.   +0.j, 4.353+0.j]])"
      ]
     },
     "execution_count": 18,
     "metadata": {},
     "output_type": "execute_result"
    }
   ],
   "source": [
    "h = np.array( [ [ 0,1, 1.20] , [ 0, 4,5 ], [1+1j,5.,4.353 ] ] )\n",
    "h"
   ]
  },
  {
   "cell_type": "code",
   "execution_count": 19,
   "metadata": {},
   "outputs": [
    {
     "name": "stdout",
     "output_type": "stream",
     "text": [
      "[ 1.  2.  3.  4.  5.  6.  7.  8.  9. 10.]\n"
     ]
    }
   ],
   "source": [
    "i = np.arange(1,11, dtype=np.float)\n",
    "print(i)"
   ]
  },
  {
   "cell_type": "markdown",
   "metadata": {},
   "source": [
    "#### numpy.linspace(start, stop, num=50, endpoint=True, retstep=False, dtype=None, axis=0)[source]¶"
   ]
  },
  {
   "cell_type": "code",
   "execution_count": 20,
   "metadata": {
    "scrolled": true
   },
   "outputs": [
    {
     "name": "stdout",
     "output_type": "stream",
     "text": [
      "[ 5.  11.5 18. ]\n",
      "[2.  2.5 3.  3.5 4. ]\n",
      "[0.         0.02040816 0.04081633 0.06122449 0.08163265 0.10204082\n",
      " 0.12244898 0.14285714 0.16326531 0.18367347 0.20408163 0.2244898\n",
      " 0.24489796 0.26530612 0.28571429 0.30612245 0.32653061 0.34693878\n",
      " 0.36734694 0.3877551  0.40816327 0.42857143 0.44897959 0.46938776\n",
      " 0.48979592 0.51020408 0.53061224 0.55102041 0.57142857 0.59183673\n",
      " 0.6122449  0.63265306 0.65306122 0.67346939 0.69387755 0.71428571\n",
      " 0.73469388 0.75510204 0.7755102  0.79591837 0.81632653 0.83673469\n",
      " 0.85714286 0.87755102 0.89795918 0.91836735 0.93877551 0.95918367\n",
      " 0.97959184 1.        ]\n"
     ]
    },
    {
     "data": {
      "text/plain": [
       "array([2.  , 2.25, 2.5 , 2.75, 3.  ])"
      ]
     },
     "execution_count": 20,
     "metadata": {},
     "output_type": "execute_result"
    }
   ],
   "source": [
    "#linspace - returns evenly spaced numbers over a specified interval.\n",
    "j= np.linspace( 5, 18, 3) #generates 3 samples \n",
    "print(j)\n",
    "j2 = np.linspace(2, 4, 5) #generates 5 samples \n",
    "print(j2)\n",
    "j3=np.linspace (0,1) #default Num (number of samples to be generated)=50\n",
    "print(j3)\n",
    "np.linspace(2.0, 3.0, num=5)"
   ]
  },
  {
   "cell_type": "markdown",
   "metadata": {},
   "source": [
    "## Numpy datatypes:"
   ]
  },
  {
   "cell_type": "code",
   "execution_count": 21,
   "metadata": {},
   "outputs": [
    {
     "name": "stdout",
     "output_type": "stream",
     "text": [
      "int64 float64 int64 float64\n"
     ]
    }
   ],
   "source": [
    "w=np.array ( [ 0 ,1 ] )\n",
    "x=np.array ( [ 5.0 ,4.3 ] )\n",
    "y=np.array ( [ 5, 6 ], dtype=np.int64)\n",
    "z=np.array ( [ 5, 6 ], dtype=np.double)\n",
    "print(w.dtype,x.dtype,y.dtype,z.dtype)"
   ]
  },
  {
   "cell_type": "code",
   "execution_count": 22,
   "metadata": {},
   "outputs": [
    {
     "data": {
      "text/plain": [
       "array([[-1.  ,  3.  ,  5.  ,  3.4 ],\n",
       "       [ 4.  ,  6.  ,  4.  ,  3.  ],\n",
       "       [ 6.  ,  5.  ,  7.  ,  0.65],\n",
       "       [ 3.  ,  5.  ,  6.  ,  6.6 ]])"
      ]
     },
     "execution_count": 22,
     "metadata": {},
     "output_type": "execute_result"
    }
   ],
   "source": [
    "ar=np.array( [ [ -1,3 , 5,3.4], [ 4,6,4,3], [6, 5,7, .65] , [ 3,5,6,6.6]])\n",
    "ar"
   ]
  },
  {
   "cell_type": "markdown",
   "metadata": {},
   "source": [
    "#### SLICING:"
   ]
  },
  {
   "cell_type": "code",
   "execution_count": 30,
   "metadata": {
    "scrolled": true
   },
   "outputs": [
    {
     "name": "stdout",
     "output_type": "stream",
     "text": [
      "[[-1.  5.]\n",
      " [ 4.  4.]\n",
      " [ 6.  7.]]\n"
     ]
    }
   ],
   "source": [
    "temp= ar [ : 3, :: 2 ]\n",
    "print(temp) #prints 3 rows with alternating columns "
   ]
  },
  {
   "cell_type": "code",
   "execution_count": 31,
   "metadata": {},
   "outputs": [
    {
     "name": "stdout",
     "output_type": "stream",
     "text": [
      "[[-1.  5.]\n",
      " [ 4.  4.]\n",
      " [ 6.  7.]\n",
      " [ 3.  6.]]\n"
     ]
    }
   ],
   "source": [
    "temp= ar [ : 5, :: 2 ]\n",
    "print(temp) #prints 3 rows with alternating columns "
   ]
  },
  {
   "cell_type": "markdown",
   "metadata": {},
   "source": [
    "#### INTEGER ARRAY INDEXING: "
   ]
  },
  {
   "cell_type": "code",
   "execution_count": 33,
   "metadata": {},
   "outputs": [
    {
     "name": "stdout",
     "output_type": "stream",
     "text": [
      "[3.4 4.  5.  3. ]\n",
      "Prints the values of temp array at the indices (0,3), (1,2), (2,1), (3,0)\n"
     ]
    }
   ],
   "source": [
    "temp=ar[ [ 0 , 1, 2, 3 ], [ 3, 2, 1 , 0 ] ]\n",
    "print(temp)\n",
    "print(\"Prints the values of temp array at the indices (0,3), (1,2), (2,1), (3,0)\")"
   ]
  },
  {
   "cell_type": "markdown",
   "metadata": {},
   "source": [
    "#### BOOLEAN ARRAY INDEXING:"
   ]
  },
  {
   "cell_type": "code",
   "execution_count": 37,
   "metadata": {},
   "outputs": [
    {
     "name": "stdout",
     "output_type": "stream",
     "text": [
      "[[-1.    3.    5.    3.4 ]\n",
      " [ 4.    6.    4.    3.  ]\n",
      " [ 6.    5.    7.    0.65]\n",
      " [ 3.    5.    6.    6.6 ]]\n",
      "[3.   5.   3.4  4.   6.   4.   3.   6.   5.   7.   0.65 3.   5.   6.\n",
      " 6.6 ]\n"
     ]
    }
   ],
   "source": [
    "g_t_0=ar>0 #g_t_0 is an array with values of ar array such that elements > 0 \n",
    "temp=ar[g_t_0]\n",
    "print(ar)\n",
    "print(temp)"
   ]
  },
  {
   "cell_type": "markdown",
   "metadata": {},
   "source": [
    "## Operations on arrays:"
   ]
  },
  {
   "cell_type": "code",
   "execution_count": 46,
   "metadata": {},
   "outputs": [
    {
     "name": "stdout",
     "output_type": "stream",
     "text": [
      "[2 3 6 4]\n",
      "[-2 -1  2  0]\n",
      "[0.5 1.  2.5 1.5]\n",
      "[1 0 1 1]\n"
     ]
    }
   ],
   "source": [
    "a=np.array( [ 1, 2, 5, 3 ])\n",
    "print(a+1) #adding 1 to all the elements of array\n",
    "print(a-3) #Subtracting 3 to all the elements of array\n",
    "print(a/2) \n",
    "print(a%2) "
   ]
  },
  {
   "cell_type": "code",
   "execution_count": null,
   "metadata": {},
   "outputs": [],
   "source": []
  }
 ],
 "metadata": {
  "kernelspec": {
   "display_name": "Python 3",
   "language": "python",
   "name": "python3"
  },
  "language_info": {
   "codemirror_mode": {
    "name": "ipython",
    "version": 3
   },
   "file_extension": ".py",
   "mimetype": "text/x-python",
   "name": "python",
   "nbconvert_exporter": "python",
   "pygments_lexer": "ipython3",
   "version": "3.7.3"
  }
 },
 "nbformat": 4,
 "nbformat_minor": 4
}
